{
 "cells": [
  {
   "cell_type": "markdown",
   "metadata": {},
   "source": [
    "<div class=\"alert alert-success\" style = \"border-radius:10px;border-width:3px;border-color:white;font-family:Verdana,sans-serif;font-size:16px;\">\n",
    "<h2>Modelling heterogeneous distributions with an\n",
    "Uncountable Mixture of Asymmetric Laplacians (UMAL) </h2></div>\n",
    "\n",
    "Code is made available under the [Apache Version 2.0 License](https://www.apache.org/licenses/LICENSE-2.0).\n",
    "\n",
    "> Copyright 2019\n",
    ">\n",
    "> Licensed under the Apache License, Version 2.0 (the \"License\");\n",
    "> you may not use this file except in compliance with the License.\n",
    "> You may obtain a copy of the License at\n",
    ">\n",
    ">    http://www.apache.org/licenses/LICENSE-2.0\n",
    ">\n",
    "> Unless required by applicable law or agreed to in writing, software\n",
    "> distributed under the License is distributed on an \"AS IS\" BASIS,\n",
    "> WITHOUT WARRANTIES OR CONDITIONS OF ANY KIND, either express or implied.\n",
    "> See the License for the specific language governing permissions and\n",
    "> limitations under the License.\n",
    "\n",
    "\n",
    "This source code corresponds to an official UMAL implementation of the following paper's contribution: \n",
    "\n",
    "[***Axel Brando, Jose A. Rodriguez-Serrano, Jordi Vitria, Alberto Rubio. \"Modelling heterogeneous distributions with an Uncountable Mixture of Asymmetric Laplacians.\" Advances in Neural Information Processing Systems. 2019.***](LINK)\n",
    "\n",
    "Please, to use this material and the code follow the instructions explained in the main repository [LINK](LINK)."
   ]
  },
  {
   "cell_type": "markdown",
   "metadata": {},
   "source": [
    "<div class=\"alert alert-info\" style = \"border-radius:10px;border-width:3px;border-color:white;font-family:Verdana,sans-serif;font-size:16px;\">\n",
    "<h3>Room price forecasting problem - BCN</h3></div>\n",
    "\n",
    "Price forecasting per night of houses / rooms offered on Airbnb for the city of Barcelona by using public information downloaded from:\n",
    "\n",
    "Murray Cox. Inside airbnb: adding data to the debate. Inside Airbnb [Internet].[cited 16 May\n",
    "2019]. Available: http://insideairbnb.com, 2019.\n",
    "\n",
    "Price prediction is based on informative features such as neighbourhood, number of beds and other characteristics associated to the spaces."
   ]
  },
  {
   "cell_type": "code",
   "execution_count": 1,
   "metadata": {
    "ExecuteTime": {
     "end_time": "2019-09-24T14:19:06.507256Z",
     "start_time": "2019-09-24T14:19:04.353654Z"
    }
   },
   "outputs": [
    {
     "name": "stderr",
     "output_type": "stream",
     "text": [
      "Using TensorFlow backend.\n"
     ]
    },
    {
     "data": {
      "image/png": "[encoded data removed]",
      "text/plain": [
       "<Figure size 432x288 with 1 Axes>"
      ]
     },
     "metadata": {
      "needs_background": "light"
     },
     "output_type": "display_data"
    },
    {
     "data": {
      "image/png": "[encoded data removed]",
      "text/plain": [
       "<Figure size 432x288 with 1 Axes>"
      ]
     },
     "metadata": {
      "needs_background": "light"
     },
     "output_type": "display_data"
    },
    {
     "name": "stdout",
     "output_type": "stream",
     "text": [
      "{'Entire home/apt': 0, 'Private room': 1, 'Shared room': 2}\n",
      "(36367, 106) (29093, 129) (3637, 129) (3637, 129)\n",
      "(36367, 106) (29078, 129) (3634, 129) (3633, 129)\n"
     ]
    }
   ],
   "source": [
    "#If you are using GPU uncomment the following lines starting with '##'\n",
    "\n",
    "import os\n",
    "os.environ[\"CUDA_DEVICE_ORDER\"]=\"PCI_BUS_ID\"\n",
    "os.environ[\"CUDA_VISIBLE_DEVICES\"]='1'\n",
    "\n",
    "import tensorflow as tf\n",
    "config = tf.ConfigProto()\n",
    "config.gpu_options.allow_growth = True\n",
    "sess = tf.InteractiveSession(config=config)\n",
    "\n",
    "from keras import backend as K\n",
    "\n",
    "K.set_session(sess)\n",
    "general_type = 'float64' #or 'float32'\n",
    "K.set_floatx(general_type)\n",
    "\n",
    "import keras\n",
    "from keras.layers.core import Dense\n",
    "from keras.layers import Activation\n",
    "\n",
    "from matplotlib import pyplot as plt\n",
    "%matplotlib inline\n",
    "import matplotlib.patches as mpatches\n",
    "import matplotlib.lines as mlines\n",
    "\n",
    "import numpy as np\n",
    "import pandas as pd\n",
    "\n",
    "from umal import build_UMAL, elu_modif, calculate_distribution, log_sum_exp, np_log_sum_exp\n",
    "\n",
    "# You need to generate this pickle file collecting the last time each apartment \n",
    "#  appeared within the months available from April 2018 to March 2019 in Barcelona.\n",
    "listing = pd.read_pickle(\"data/BCN_listings_2018_04_2019_03.pkl\")\n",
    "\n",
    "nh = 'neighbourhood_group_cleansed'\n",
    "onehot = {i:e for e,i in enumerate(np.unique(listing[nh].values))}\n",
    "lst = []\n",
    "for i in listing[nh].values:\n",
    "    lst += [onehot[i]]\n",
    "\n",
    "plt.figure()\n",
    "plt.hist(lst,bins=69)\n",
    "plt.show()\n",
    "\n",
    "listing.fillna(-np.inf, inplace=True)\n",
    "\n",
    "# extract the 'prices' from the table\n",
    "price = listing['price']\n",
    "\n",
    "prices = []\n",
    "\n",
    "# the values are stored as '$7,000' instead of 7000.\n",
    "# data cleaning to make the values into floats\n",
    "for element in price:\n",
    "    element = float(element[1:].replace(',',''))\n",
    "    prices.append(element)\n",
    "listing['price'] = prices\n",
    "\n",
    "oh = {i:e for e,i in enumerate(np.unique(listing['room_type'].values))}\n",
    "plt.figure()\n",
    "plt.hist([oh[i] for i in listing['room_type']])\n",
    "plt.show()\n",
    "print(oh)\n",
    "\n",
    "s_pt = pd.Series(list(listing['property_type']))\n",
    "s_rt = pd.Series(list(listing['room_type']))\n",
    "# Obtain the onehot encoding of the neighbourhood\n",
    "s_n_1 = pd.Series(list(listing['neighbourhood_cleansed']))\n",
    "s_n_2 = pd.Series(list(listing['neighbourhood_group_cleansed']))\n",
    "        \n",
    "# Attributes concatenation\n",
    "X = np.concatenate((listing['longitude'].values.reshape(-1,1),\n",
    "                    listing['latitude'].values.reshape(-1,1),\n",
    "                    pd.get_dummies(s_rt).values,\n",
    "                    listing['bathrooms'].values.reshape(-1,1),\n",
    "                    listing['accommodates'].values.reshape(-1,1),\n",
    "                    pd.get_dummies(s_pt).values,\n",
    "                    pd.get_dummies(s_n_1).values,\n",
    "                    pd.get_dummies(s_n_2).values),\n",
    "                   axis=1)\n",
    "\n",
    "y = listing['price'].values.reshape(-1,1)\n",
    "\n",
    "#Due to it is always the same city, we can normalize by min max the locations\n",
    "X[:,:2] = (X[:,:2]-X[:,:2].min(axis=0))\n",
    "X[:,:2] = X[:,:2]/X[:,:2].max(axis=0)\n",
    "\n",
    "def divide(x,tanpercent=10,seed=42):\n",
    "    np.random.seed(seed)\n",
    "    pos = np.arange(x.shape[0])\n",
    "    np.random.shuffle(pos)\n",
    "    \n",
    "    tmp_x = x[pos]\n",
    "    \n",
    "    return tmp_x[:int(80*x.shape[0]/100)], tmp_x[int(80*x.shape[0]/100):int(90*x.shape[0]/100)], tmp_x[int(90*x.shape[0]/100):]\n",
    "\n",
    "x_train, x_valid, x_test = divide(X)\n",
    "y_train, y_valid, y_test = divide(y)\n",
    "\n",
    "assert x_train.shape[0]+x_valid.shape[0]+x_test.shape[0] == X.shape[0]\n",
    "assert y_train.shape[0]+y_valid.shape[0]+y_test.shape[0] == X.shape[0]\n",
    "\n",
    "print(listing.shape,x_train.shape,x_valid.shape,x_test.shape)\n",
    "\n",
    "fltr = lambda x,y: (x[np.isneginf(x).sum(axis=1)==0],y[np.isneginf(x).sum(axis=1)==0])\n",
    "\n",
    "x_train, y_train = fltr(x_train,y_train)\n",
    "x_valid, y_valid = fltr(x_valid, y_valid)\n",
    "x_test, y_test = fltr(x_test,y_test)\n",
    "\n",
    "assert x_train.shape[0]+x_valid.shape[0]+x_test.shape[0] == y_train.shape[0]+y_valid.shape[0]+y_test.shape[0]\n",
    "\n",
    "print(listing.shape,x_train.shape,x_valid.shape,x_test.shape)"
   ]
  },
  {
   "cell_type": "code",
   "execution_count": 2,
   "metadata": {
    "ExecuteTime": {
     "end_time": "2019-09-24T14:19:06.769839Z",
     "start_time": "2019-09-24T14:19:06.766269Z"
    },
    "collapsed": true
   },
   "outputs": [],
   "source": [
    "#Definition of the hidden layers. These layers could be any desired layers \n",
    "# as long as they return the penultimate internal representation to predict\n",
    "# the forecasted parameters of the ALD conditioned to tau.\n",
    "\n",
    "def hidden_architecture(i,name=\"\"):\n",
    "    model = Dense(units=120, activation='relu', name='FC0'+name)(i)\n",
    "    model = Dense(units=120, activation='relu', name='FC1'+name)(model)\n",
    "    model = Dense(units=60, activation='relu', name='FC2'+name)(model)\n",
    "    model = Dense(units=60, activation='relu', name='FC3'+name)(model)  \n",
    "    model = Dense(units=10, activation='relu', name='FC4'+name)(model)\n",
    "    return model"
   ]
  },
  {
   "cell_type": "code",
   "execution_count": 9,
   "metadata": {
    "ExecuteTime": {
     "end_time": "2019-09-24T14:47:43.603918Z",
     "start_time": "2019-09-24T14:35:45.003610Z"
    }
   },
   "outputs": [
    {
     "data": {
      "text/plain": [
       "[<matplotlib.lines.Line2D at 0x7f4e000e5510>]"
      ]
     },
     "execution_count": 9,
     "metadata": {},
     "output_type": "execute_result"
    },
    {
     "data": {
      "image/png": "[encoded data removed]",
      "text/plain": [
       "<Figure size 432x288 with 1 Axes>"
      ]
     },
     "metadata": {
      "needs_background": "light"
     },
     "output_type": "display_data"
    }
   ],
   "source": [
    "#Training process with verbose = 0. If you want to monitor the optimization process\n",
    "# then change this parameter to 1.\n",
    "\n",
    "es = keras.callbacks.EarlyStopping(monitor='val_loss',\n",
    "                                   min_delta=0,\n",
    "                                   patience=200,\n",
    "                                   verbose=0,\n",
    "                                   mode='auto', \n",
    "                                   restore_best_weights=True)\n",
    "\n",
    "model = build_UMAL(input_size=x_train.shape[-1],\n",
    "                       learning_rate=1e-3,\n",
    "                       architecture=hidden_architecture,\n",
    "                       mu_act=lambda x: 1e-5 + K.softplus(x + 1e-5),\n",
    "                       b_act=lambda x: 1e-5 + K.softplus(x + 1e-5))\n",
    "\n",
    "K.set_value(model.n_taus, 100)\n",
    "bs = 350\n",
    "\n",
    "losshistory = model.fit(\n",
    "    x_train,\n",
    "    y_train,\n",
    "    batch_size=bs,\n",
    "    epochs=100000,\n",
    "    initial_epoch=0,\n",
    "    verbose=0,\n",
    "    validation_data=[x_valid, y_valid],\n",
    "    callbacks=[es])\n",
    "\n",
    "#Show the validation loss epochs\n",
    "plt.plot(losshistory.history['val_loss'])"
   ]
  },
  {
   "cell_type": "markdown",
   "metadata": {},
   "source": [
    "## Results section"
   ]
  },
  {
   "cell_type": "code",
   "execution_count": 10,
   "metadata": {
    "ExecuteTime": {
     "end_time": "2019-09-24T14:48:05.441293Z",
     "start_time": "2019-09-24T14:48:04.014609Z"
    }
   },
   "outputs": [
    {
     "name": "stderr",
     "output_type": "stream",
     "text": [
      "100%|██████████| 37/37 [00:00<00:00, 38.35it/s]\n"
     ]
    }
   ],
   "source": [
    "from tqdm import tqdm\n",
    "\n",
    "model_pred = build_UMAL(**{**model._hp,'training':False})\n",
    "model_pred.set_weights(model.get_weights())\n",
    "sel_taus = np.arange(0.+5e-2,1.-5e-2,0.001)\n",
    "\n",
    "\n",
    "bs = 100\n",
    "pred_test = np.ones((sel_taus.shape[0],x_test.shape[0],int(model_pred.output.shape[-1])))*np.nan\n",
    "\n",
    "# Predict for each input point the parameters of the selected conditioned ALDs \n",
    "#  identified by sel_taus\n",
    "for i in tqdm(range(-((-x_test.shape[0])//bs))):\n",
    "    pred_test[:,bs*i:bs*(i+1)] = sess.run(model_pred.output, \n",
    "                                          feed_dict={model_pred.input: x_test[bs*i:bs*(i+1)],\n",
    "                                                     model_pred.taus:sel_taus}\n",
    "                                         ).reshape(-1,len(sel_taus),model_pred.output.shape[-1]).transpose((1,0,2))\n",
    "    \n",
    "assert not np.sum(np.isfinite(pred_test)-1)"
   ]
  },
  {
   "cell_type": "code",
   "execution_count": 11,
   "metadata": {
    "ExecuteTime": {
     "end_time": "2019-09-24T14:48:06.292015Z",
     "start_time": "2019-09-24T14:48:05.744015Z"
    }
   },
   "outputs": [
    {
     "name": "stderr",
     "output_type": "stream",
     "text": [
      "100%|██████████| 3633/3633 [00:00<00:00, 7022.50it/s]\n"
     ]
    }
   ],
   "source": [
    "#Evaluate each ALD over all test points and calculates their corresponding predicted log-likelihood\n",
    "dist_test, _, _, _ = calculate_distribution(pred_test, y_test[:, 0], epsilon=1e-3)\n",
    "\n",
    "assert not np.sum(np.isfinite(dist_test)-1)"
   ]
  },
  {
   "cell_type": "code",
   "execution_count": 12,
   "metadata": {
    "ExecuteTime": {
     "end_time": "2019-09-24T14:48:06.781752Z",
     "start_time": "2019-09-24T14:48:06.754516Z"
    }
   },
   "outputs": [
    {
     "data": {
      "text/plain": [
       "-18114.415810105478"
      ]
     },
     "execution_count": 12,
     "metadata": {},
     "output_type": "execute_result"
    }
   ],
   "source": [
    "#Calculate the Log-Likelihood of UMAL over all the test set\n",
    "\n",
    "np.sum(np_log_sum_exp(dist_test,axis=-1).squeeze()-np.log(dist_test.shape[-1]))"
   ]
  }
 ],
 "metadata": {
  "kernelspec": {
   "display_name": "Python 3",
   "language": "python",
   "name": "python3"
  },
  "language_info": {
   "codemirror_mode": {
    "name": "ipython",
    "version": 3
   },
   "file_extension": ".py",
   "mimetype": "text/x-python",
   "name": "python",
   "nbconvert_exporter": "python",
   "pygments_lexer": "ipython3",
   "version": "3.6.1"
  },
  "notify_time": "0",
  "varInspector": {
   "cols": {
    "lenName": 16,
    "lenType": 16,
    "lenVar": 40
   },
   "kernels_config": {
    "python": {
     "delete_cmd_postfix": "",
     "delete_cmd_prefix": "del ",
     "library": "var_list.py",
     "varRefreshCmd": "print(var_dic_list())"
    },
    "r": {
     "delete_cmd_postfix": ") ",
     "delete_cmd_prefix": "rm(",
     "library": "var_list.r",
     "varRefreshCmd": "cat(var_dic_list()) "
    }
   },
   "types_to_exclude": [
    "module",
    "function",
    "builtin_function_or_method",
    "instance",
    "_Feature"
   ],
   "window_display": false
  }
 },
 "nbformat": 4,
 "nbformat_minor": 2
}
